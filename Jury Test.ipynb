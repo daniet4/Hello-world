{
 "cells": [
  {
   "cell_type": "code",
   "execution_count": 1,
   "metadata": {
    "collapsed": false
   },
   "outputs": [
    {
     "name": "stderr",
     "output_type": "stream",
     "text": [
      "\u001b[1m\u001b[34mINFO: Nothing to be done\n",
      "\u001b[0m"
     ]
    }
   ],
   "source": [
    "Pkg.add(\"Polynomials\")\n",
    "using Polynomials"
   ]
  },
  {
   "cell_type": "code",
   "execution_count": 2,
   "metadata": {
    "collapsed": false
   },
   "outputs": [
    {
     "data": {
      "text/plain": [
       "jury (generic function with 1 method)"
      ]
     },
     "execution_count": 2,
     "metadata": {},
     "output_type": "execute_result"
    }
   ],
   "source": [
    "function jury(c)\n",
    "# Jury Test for Discrete-time pole stability\n",
    "# Valid for any order polynomial\n",
    "    \n",
    "    #Test 1\n",
    "    if sum(c) < 0\n",
    "        print(\"Test 1 Fail\")\n",
    "        return false\n",
    "    end\n",
    "    \n",
    "    #Test 2\n",
    "    n = length(c) - 1\n",
    "    reversed = flipdim(c,1)\n",
    "    eq = Poly(reversed)\n",
    "    \n",
    "    if (-1)^n*polyval(eq,-1) < 0\n",
    "        println(\"Test 2 Fail\")\n",
    "        return false\n",
    "    end\n",
    "    \n",
    "    #Test 3\n",
    "    if abs(c[1]) < abs(c[end])\n",
    "        print(\"Test 3 Fail\")\n",
    "        return false\n",
    "    end\n",
    "        \n",
    "    #Test 4\n",
    "    k = n \n",
    "    while k >= 3\n",
    "        next_row_c = zeros(k)\n",
    "        for i = 1:k\n",
    "            next_row_c[i] = det([c[end] c[i]; c[1] c[end + 1  - i]])\n",
    "        end\n",
    "        if abs(next_row_c[1]) < abs(next_row_c[end])\n",
    "            println(\"Failed Test 4\")\n",
    "            return false\n",
    "        end\n",
    "        k = k - 1\n",
    "        c = next_row_c\n",
    "    end\n",
    "    return true\n",
    "\n",
    "end"
   ]
  },
  {
   "cell_type": "code",
   "execution_count": 3,
   "metadata": {
    "collapsed": false
   },
   "outputs": [
    {
     "name": "stdout",
     "output_type": "stream",
     "text": [
      "Test 1 Fail"
     ]
    },
    {
     "data": {
      "text/html": [
       "false"
      ],
      "text/plain": [
       "false"
      ]
     },
     "execution_count": 3,
     "metadata": {},
     "output_type": "execute_result"
    }
   ],
   "source": [
    "jury([1,-1.3,-0.08,0.24])"
   ]
  }
 ],
 "metadata": {
  "kernelspec": {
   "display_name": "Julia 0.5.1",
   "language": "julia",
   "name": "julia-0.5"
  },
  "language_info": {
   "file_extension": ".jl",
   "mimetype": "application/julia",
   "name": "julia",
   "version": "0.5.1"
  }
 },
 "nbformat": 4,
 "nbformat_minor": 1
}
